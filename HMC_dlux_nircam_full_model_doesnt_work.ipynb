{
 "cells": [
  {
   "cell_type": "markdown",
   "id": "30df133d",
   "metadata": {},
   "source": [
    "In this notebook I will try to fit a single star PSF model to a calibrator star from kernel phase data set. \n",
    "To do that I will need to fit only x, y center positions and median flux as in de Furio paper. In addition to that we I can add phase retrieval and improve model-data fitting\n",
    "\n",
    "To fit a binary model, which I will do in a separate notebook, I will need to have more parameters, but first basic parameters are  x and y center of the primary, flux normalization of the primary, separation between the centers of the primary and secondary, the position angle of the center of the secondary relative to the primary, and the flux ratio between the secondary and primary. On top of that I can add phase retrieval parameters to the model. \n",
    "\n",
    "Functions I need:\n",
    "1. grid search in x,y parameter space\n",
    "2. plots to save\n",
    "3. data for plots to be saved\n",
    "4. de furio like 3x3 plot with fitting single and binary models to the binary data\n",
    "5. sbatch run file\n",
    "6. repeate code for every filter"
   ]
  },
  {
   "cell_type": "code",
   "execution_count": 1,
   "id": "3a139b0c",
   "metadata": {},
   "outputs": [
    {
     "name": "stderr",
     "output_type": "stream",
     "text": [
      "**WARNING**: LOCAL JWST PRD VERSION PRDOPSSOC-059 CANNOT BE CHECKED AGAINST ONLINE VERSION\n"
     ]
    }
   ],
   "source": [
    "import jax\n",
    "from jax.config import config\n",
    "config.update(\"jax_enable_x64\", True)\n",
    "\n",
    "# Set CPU count for numpyro multi-chain multi-thread\n",
    "import os\n",
    "os.environ[\"XLA_FLAGS\"] = '--xla_force_host_platform_device_count=4'\n",
    "\n",
    "import dLux as dl\n",
    "from matplotlib import colors, pyplot as plt\n",
    "import jax.numpy as np\n",
    "from jax import jit, vmap\n",
    "import jax.random as jr\n",
    "\n",
    "import webbpsf\n",
    "from astropy.io import fits\n",
    "import astropy.units as u\n",
    "from tqdm.notebook import tqdm\n",
    "\n",
    "from dLuxWebbpsf import NIRCam\n",
    "\n",
    "def cart2pol(x, y):\n",
    "    rho = np.sqrt(x**2 + y**2)\n",
    "    theta = np.arctan2(y, x)\n",
    "    return(rho, theta)\n",
    "\n",
    "def pol2cart(rho, theta):\n",
    "    x = rho * np.cos(theta)\n",
    "    y = rho * np.sin(theta)\n",
    "    return(x, y)\n",
    "\n",
    "def toRad(arcsecs):\n",
    "    return arcsecs * np.pi / (180*3600)\n",
    "\n",
    "def toArcsec(radians):\n",
    "    return radians / np.pi * (180*3600)"
   ]
  },
  {
   "cell_type": "markdown",
   "id": "2e597c28",
   "metadata": {},
   "source": [
    "Step 1: Make fake data with the same parameters as real data."
   ]
  },
  {
   "cell_type": "code",
   "execution_count": 13,
   "id": "8f119751",
   "metadata": {},
   "outputs": [
    {
     "name": "stdout",
     "output_type": "stream",
     "text": [
      "pixel scale: 3.054326190990077e-07\n"
     ]
    }
   ],
   "source": [
    "webb_options = {\n",
    "    'jitter': None,   # jitter model name or None\n",
    "    'jitter_sigma': 0.000,  # in arcsec per axis, default 0.007\n",
    "    'add_distortion': False,\n",
    "}\n",
    "\n",
    "optics = NIRCam(filter = \"F300M\",\n",
    "                pupil_mask = None,\n",
    "                coron_mask = None,\n",
    "                detector = \"NRCA5\",\n",
    "                aperture = \"NRCA5_FULL_MASK430R\",\n",
    "                fft_oversample=1,\n",
    "                fov_arcsec=None,\n",
    "                #fov_pixels=56,\n",
    "                fov_pixels=16,\n",
    "                wavefront_downsample=8,\n",
    "                options=webb_options)\n",
    "\n",
    "\n",
    "wavels = np.array([2.82792251e-06])\n",
    "weights = np.array([1])\n",
    "\n",
    "#wavels, weights = optics.get_wavelengths()\n",
    "#print(wavels)\n",
    "#print(weights)\n",
    "\n",
    "spec = dl.Spectrum(wavels, weights)\n",
    "\n",
    "\n",
    "source_offset_x = toRad(0.15)\n",
    "source_offset_y = toRad(0.3)\n",
    "offset = np.array([source_offset_x, source_offset_y])\n",
    "\n",
    "#offset = np.array([-source_offset_y, source_offset_x / 47 * np.pi]) #test with different offset later\n",
    "#offset = np.array([0,0])\n",
    "\n",
    "# wavelengths are still required even if they are discarded\n",
    "source = dl.PointSource(wavelengths=wavels, spectrum=spec, position=offset)\n",
    "\n",
    "\n",
    "telescope = dl.Instrument(optics, (source,'source'))"
   ]
  },
  {
   "cell_type": "code",
   "execution_count": 19,
   "id": "29b95862",
   "metadata": {},
   "outputs": [],
   "source": [
    "pixscale = 0.063 #arcsec"
   ]
  },
  {
   "cell_type": "markdown",
   "id": "e0998c34",
   "metadata": {},
   "source": [
    "Step 2: Make an optical model for optimisation where source will be parametrised."
   ]
  },
  {
   "cell_type": "markdown",
   "id": "0c31f43d",
   "metadata": {},
   "source": [
    "the solution that they have for this same problem in https://github.com/amerand/CANDID, a popular interferometry data analysis code, is to calculate the likelihood on a grid of xy with other parameters held constant, to identify the best position to start\n",
    "see that page - scroll down to ‘CHI2MAP’ and ‘FITMAP’"
   ]
  },
  {
   "cell_type": "code",
   "execution_count": 40,
   "id": "6c2f56e8",
   "metadata": {},
   "outputs": [],
   "source": [
    "@jit\n",
    "def model_optics_jit():\n",
    "    return telescope.model()"
   ]
  },
  {
   "cell_type": "code",
   "execution_count": 41,
   "id": "4918823d",
   "metadata": {},
   "outputs": [
    {
     "name": "stdout",
     "output_type": "stream",
     "text": [
      "Modelling optics...\n",
      "Modelling optics...ok\n",
      "CPU times: user 117 ms, sys: 9.8 ms, total: 127 ms\n",
      "Wall time: 120 ms\n"
     ]
    }
   ],
   "source": [
    "%%time\n",
    "print(\"Modelling optics...\")\n",
    "psf = model_optics_jit()\n",
    "print(\"Modelling optics...ok\")"
   ]
  },
  {
   "cell_type": "code",
   "execution_count": 42,
   "id": "07368a12",
   "metadata": {},
   "outputs": [],
   "source": [
    "psf_photon = 1*jr.poisson(jr.PRNGKey(0), psf)\n",
    "bg_noise = 0.01*jr.normal(jr.PRNGKey(0), psf_photon.shape)\n",
    "#data = psf_photon + bg_noise\n",
    "\n",
    "data = psf_photon"
   ]
  },
  {
   "cell_type": "code",
   "execution_count": 43,
   "id": "afd473be",
   "metadata": {},
   "outputs": [
    {
     "name": "stdout",
     "output_type": "stream",
     "text": [
      "(16, 16)\n"
     ]
    },
    {
     "data": {
      "image/png": "[encoded data removed]",
      "text/plain": [
       "<Figure size 640x480 with 2 Axes>"
      ]
     },
     "metadata": {},
     "output_type": "display_data"
    }
   ],
   "source": [
    "plt.imshow(data, norm=\"log\")\n",
    "plt.colorbar()\n",
    "print(data.shape)"
   ]
  },
  {
   "cell_type": "markdown",
   "id": "95c34b78",
   "metadata": {},
   "source": [
    "Now as we got fake data, lets tru to grid search the star position so we can pass it to the HMC as initial guess. "
   ]
  },
  {
   "cell_type": "code",
   "execution_count": 44,
   "id": "7804f55b",
   "metadata": {},
   "outputs": [],
   "source": [
    "parameters = ['source.position']\n",
    "\n",
    "# Define the likelihood function\n",
    "model = telescope\n",
    "\n",
    "# Define the meshgrid\n",
    "xsize = 41\n",
    "ysize = 41\n",
    "allsize = xsize*ysize\n",
    "\n",
    "xmin = toRad(-1)\n",
    "xmax = toRad(1)\n",
    "ymin = toRad(-1)\n",
    "ymax = toRad(1)\n",
    "\n",
    "\n",
    "xx, yy = np.meshgrid(np.linspace(xmin, xmax, xsize), np.linspace(ymin, ymax, ysize))\n",
    "\n",
    "xr = xx.reshape((allsize))\n",
    "yr = yy.reshape((allsize))\n",
    "\n",
    "\n",
    "xstep = toArcsec(xr[1] - xr[0])\n",
    "ystep = toArcsec(yr[1] - yr[0])"
   ]
  },
  {
   "cell_type": "code",
   "execution_count": 45,
   "id": "4298a9d8",
   "metadata": {},
   "outputs": [],
   "source": [
    "from jax import lax\n",
    "\n",
    "def likelihood(x, y, expected_data):\n",
    "    model_data = model.set(parameters, [[x, y]]).model()\n",
    "    residuals = expected_data - model_data\n",
    "    # calculate the chi-squared value\n",
    "    chi_squared = np.sum(residuals**2)\n",
    "    # calculate the likelihood\n",
    "    likelihood =  -0.5 * chi_squared  #log likelihood\n",
    "    print(f\"x={x}, y={y}, chi_squared={chi_squared}\")\n",
    "    return likelihood\n",
    "\n",
    "@jit\n",
    "def likelihood_fast(x,y,expected_data):\n",
    "    likelihood_c = lambda args : likelihood(args[0], args[1], expected_data)\n",
    "    args = np.stack((x, y), axis=-1)\n",
    "    return lax.map(likelihood_c, args)\n"
   ]
  },
  {
   "cell_type": "code",
   "execution_count": 46,
   "id": "86531d8f",
   "metadata": {},
   "outputs": [
    {
     "name": "stdout",
     "output_type": "stream",
     "text": [
      "x=Traced<ShapedArray(float64[])>with<DynamicJaxprTrace(level=2/0)>, y=Traced<ShapedArray(float64[])>with<DynamicJaxprTrace(level=2/0)>, chi_squared=Traced<ShapedArray(float64[])>with<DynamicJaxprTrace(level=2/0)>\n",
      "CPU times: user 990 ms, sys: 28.7 ms, total: 1.02 s\n",
      "Wall time: 869 ms\n"
     ]
    }
   ],
   "source": [
    "%%time\n",
    "out = likelihood_fast(xr, yr, data)"
   ]
  },
  {
   "cell_type": "code",
   "execution_count": 47,
   "id": "6fa126fc",
   "metadata": {},
   "outputs": [
    {
     "name": "stdout",
     "output_type": "stream",
     "text": [
      "   rad: 7.272205216643044e-07, 1.4544410433286085e-06\n",
      "arcsec: 0.1500000000000001, 0.3000000000000001\n"
     ]
    }
   ],
   "source": [
    "likelihoods = np.array(out).reshape((xsize, ysize))\n",
    "#print(likelihoods)\n",
    "\n",
    "ind_argmax = out.argmax()\n",
    "coords=(xr[ind_argmax], yr[ind_argmax])\n",
    "\n",
    "#ind_max = np.unravel_index(likelihoods.argmax(), likelihoods.shape)\n",
    "#coords=(xx[ind_max[0], ind_max[1]], yy[ind_max[0], ind_max[1]])\n",
    "\n",
    "x_recovered = toArcsec(coords[0])\n",
    "y_recovered = toArcsec(coords[1])\n",
    "\n",
    "print(f'   rad: {coords[0]}, {coords[1]}')\n",
    "print(f'arcsec: {x_recovered}, {y_recovered}')\n",
    "#print(f'rho,th: {rho_rec}, {theta_rec}')"
   ]
  },
  {
   "cell_type": "code",
   "execution_count": 48,
   "id": "d1a6f4a9",
   "metadata": {},
   "outputs": [
    {
     "name": "stdout",
     "output_type": "stream",
     "text": [
      "9.051110146405625\n"
     ]
    }
   ],
   "source": [
    "flux = np.sum(data)\n",
    "log_flux = np.log(flux)\n",
    "print(log_flux)"
   ]
  },
  {
   "cell_type": "code",
   "execution_count": 49,
   "id": "a0419d0a",
   "metadata": {},
   "outputs": [
    {
     "data": {
      "text/plain": [
       "<matplotlib.colorbar.Colorbar at 0x154d50a60>"
      ]
     },
     "execution_count": 49,
     "metadata": {},
     "output_type": "execute_result"
    },
    {
     "data": {
      "image/png": "[encoded data removed]",
      "text/plain": [
       "<Figure size 640x480 with 2 Axes>"
      ]
     },
     "metadata": {},
     "output_type": "display_data"
    }
   ],
   "source": [
    "offset_found = np.array([coords[0], coords[1]])\n",
    "source_found = dl.PointSource(wavelengths=wavels, spectrum=spec, position=offset_found)\n",
    "telescope_found = dl.Instrument(optics, (source_found,'source'))\n",
    "\n",
    "psf_found = telescope_found.model()\n",
    "plt.imshow(psf_found, norm=\"log\")\n",
    "plt.colorbar()"
   ]
  },
  {
   "cell_type": "code",
   "execution_count": 50,
   "id": "64da42fc",
   "metadata": {},
   "outputs": [
    {
     "data": {
      "text/plain": [
       "Array([0.15, 0.3 ], dtype=float64)"
      ]
     },
     "execution_count": 50,
     "metadata": {},
     "output_type": "execute_result"
    }
   ],
   "source": [
    "toArcsec(offset_found)"
   ]
  },
  {
   "cell_type": "code",
   "execution_count": 51,
   "id": "5e1f492b",
   "metadata": {},
   "outputs": [
    {
     "data": {
      "text/plain": [
       "<matplotlib.image.AxesImage at 0x154f4afb0>"
      ]
     },
     "execution_count": 51,
     "metadata": {},
     "output_type": "execute_result"
    },
    {
     "data": {
      "image/png": "[encoded data removed]",
      "text/plain": [
       "<Figure size 640x480 with 1 Axes>"
      ]
     },
     "metadata": {},
     "output_type": "display_data"
    }
   ],
   "source": [
    "plt.imshow(likelihoods)"
   ]
  },
  {
   "cell_type": "code",
   "execution_count": 52,
   "id": "462bd45a",
   "metadata": {},
   "outputs": [],
   "source": [
    "std = np.std(bg_noise)"
   ]
  },
  {
   "cell_type": "code",
   "execution_count": 53,
   "id": "8a757bff",
   "metadata": {},
   "outputs": [
    {
     "data": {
      "text/plain": [
       "Array(0.00948187, dtype=float64)"
      ]
     },
     "execution_count": 53,
     "metadata": {},
     "output_type": "execute_result"
    }
   ],
   "source": [
    "std"
   ]
  },
  {
   "cell_type": "markdown",
   "id": "24f75d11",
   "metadata": {},
   "source": [
    "Step 3: Set up HMC parameters and distributions."
   ]
  },
  {
   "cell_type": "code",
   "execution_count": 54,
   "id": "ab6acbd5",
   "metadata": {},
   "outputs": [],
   "source": [
    "import numpyro as npy\n",
    "import numpyro.distributions as dist\n",
    "\n",
    "#parameters = ['position', 'flux']\n",
    "parameters = ['position']\n",
    "\n",
    "std = 0.01 * np.ones_like(data.flatten())\n",
    "\n",
    "coord_range = xstep*2\n",
    "log_flux_range = 2\n",
    "\n",
    "def psf_model(data, data_err, model):\n",
    "    \"\"\"\n",
    "    Define the numpyro function\n",
    "    \"\"\"\n",
    "    #x_sample = npy.sample(\"x_arcsec\", dist.Uniform(x_recovered - coord_range, x_recovered + coord_range))\n",
    "    #y_sample = npy.sample(\"y_arcsec\", dist.Uniform(y_recovered - coord_range, y_recovered + coord_range))\n",
    "    \n",
    "    x_sample = npy.sample(\"x_arcsec\", dist.Uniform(0.1, 0.35))\n",
    "    y_sample = npy.sample(\"y_arcsec\", dist.Uniform(0.1, 0.35))\n",
    "    \n",
    "    #flux_sample  = npy.sample(\"log_flux\", dist.Uniform(log_flux - log_flux_range, log_flux + log_flux_range))\n",
    "    \n",
    "    #det_flux = np.exp(flux_sample)\n",
    "    det_x = toRad(x_sample)\n",
    "    det_y = toRad(y_sample)\n",
    "    \n",
    "    values = [\n",
    "        [det_x, det_y],\n",
    "        #det_flux\n",
    "    ]\n",
    "    \n",
    "    with npy.plate(\"data\", len(data.flatten())):\n",
    "        dist_model = dist.Normal(model.set(parameters, values).model().flatten(), data_err)\n",
    "        npy.sample(\"psf\", dist_model, obs=data.flatten())"
   ]
  },
  {
   "cell_type": "code",
   "execution_count": 55,
   "id": "9f59250e",
   "metadata": {},
   "outputs": [],
   "source": [
    "#sampler. run(jax. random. PRNGKey(0), yerr, y-y)\n",
    "#inf_data = az. from_numpyro (sampler)\n",
    "#inf_data.to_netcdf(os-path.join(self.outputs,(self.hdnum+*_*+self-method+*h5°)))"
   ]
  },
  {
   "cell_type": "code",
   "execution_count": 56,
   "id": "f3126b98",
   "metadata": {},
   "outputs": [
    {
     "data": {
      "application/vnd.jupyter.widget-view+json": {
       "model_id": "c35e4c7f4f0649dfb1c526bf112d78e8",
       "version_major": 2,
       "version_minor": 0
      },
      "text/plain": [
       "  0%|          | 0/2000 [00:00<?, ?it/s]"
      ]
     },
     "metadata": {},
     "output_type": "display_data"
    },
    {
     "data": {
      "application/vnd.jupyter.widget-view+json": {
       "model_id": "4159050ae9894069ac07946df14b6bc3",
       "version_major": 2,
       "version_minor": 0
      },
      "text/plain": [
       "  0%|          | 0/2000 [00:00<?, ?it/s]"
      ]
     },
     "metadata": {},
     "output_type": "display_data"
    },
    {
     "data": {
      "application/vnd.jupyter.widget-view+json": {
       "model_id": "dd79d7a79fc74afc935211a62192d7d3",
       "version_major": 2,
       "version_minor": 0
      },
      "text/plain": [
       "  0%|          | 0/2000 [00:00<?, ?it/s]"
      ]
     },
     "metadata": {},
     "output_type": "display_data"
    },
    {
     "data": {
      "application/vnd.jupyter.widget-view+json": {
       "model_id": "713544cfecc34a858c4999a2fe9c9024",
       "version_major": 2,
       "version_minor": 0
      },
      "text/plain": [
       "  0%|          | 0/2000 [00:00<?, ?it/s]"
      ]
     },
     "metadata": {},
     "output_type": "display_data"
    },
    {
     "name": "stdout",
     "output_type": "stream",
     "text": [
      "CPU times: user 1min 27s, sys: 4.26 s, total: 1min 31s\n",
      "Wall time: 25 s\n"
     ]
    }
   ],
   "source": [
    "from jax import device_count\n",
    "sampler = npy.infer.MCMC(\n",
    "    npy.infer.NUTS(psf_model),    \n",
    "    num_warmup=1000,\n",
    "    num_samples=1000,\n",
    "    num_chains=device_count(),\n",
    "    progress_bar=True,\n",
    ")\n",
    "%time sampler.run(jr.PRNGKey(0), data, std, telescope)"
   ]
  },
  {
   "cell_type": "markdown",
   "id": "acbbe6f7",
   "metadata": {},
   "source": [
    "Step 4: Make plots."
   ]
  },
  {
   "cell_type": "code",
   "execution_count": 57,
   "id": "9fece136",
   "metadata": {},
   "outputs": [
    {
     "name": "stdout",
     "output_type": "stream",
     "text": [
      "\n",
      "                mean       std    median      5.0%     95.0%     n_eff     r_hat\n",
      "  x_arcsec      0.27      0.03      0.28      0.22      0.31      2.00   2029.63\n",
      "  y_arcsec      0.19      0.05      0.20      0.13      0.25      2.00   1435.06\n",
      "\n",
      "Number of divergences: 16\n"
     ]
    }
   ],
   "source": [
    "sampler.print_summary()\n",
    "values_out = sampler.get_samples()"
   ]
  },
  {
   "cell_type": "code",
   "execution_count": 58,
   "id": "7f460cb0",
   "metadata": {},
   "outputs": [
    {
     "name": "stderr",
     "output_type": "stream",
     "text": [
      "WARNING:chainconsumer:Parameter x_arcsec in chain Chain 0 is not constrained\n",
      "WARNING:chainconsumer:Parameter y_arcsec in chain Chain 0 is not constrained\n"
     ]
    },
    {
     "data": {
      "image/png": "[encoded data removed]",
      "text/plain": [
       "<Figure size 1200x1200 with 4 Axes>"
      ]
     },
     "metadata": {},
     "output_type": "display_data"
    }
   ],
   "source": [
    "import chainconsumer as cc\n",
    "\n",
    "chain = cc.ChainConsumer()\n",
    "chain.add_chain(values_out)\n",
    "chain.configure(serif=True, shade=True, bar_shade=True, shade_alpha=0.2, spacing=1., max_ticks=3)\n",
    "\n",
    "fig = chain.plotter.plot()\n",
    "fig.set_size_inches((12, 12));"
   ]
  },
  {
   "cell_type": "code",
   "execution_count": null,
   "id": "f2ebdc96",
   "metadata": {},
   "outputs": [],
   "source": []
  },
  {
   "cell_type": "code",
   "execution_count": null,
   "id": "2b07e337",
   "metadata": {},
   "outputs": [],
   "source": []
  }
 ],
 "metadata": {
  "kernelspec": {
   "display_name": "Python [conda env:dlux_env]",
   "language": "python",
   "name": "conda-env-dlux_env-py"
  },
  "language_info": {
   "codemirror_mode": {
    "name": "ipython",
    "version": 3
   },
   "file_extension": ".py",
   "mimetype": "text/x-python",
   "name": "python",
   "nbconvert_exporter": "python",
   "pygments_lexer": "ipython3",
   "version": "3.10.10"
  }
 },
 "nbformat": 4,
 "nbformat_minor": 5
}
