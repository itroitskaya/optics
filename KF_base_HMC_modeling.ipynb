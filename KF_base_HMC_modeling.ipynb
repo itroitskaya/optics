{
 "cells": [
  {
   "cell_type": "markdown",
   "id": "30df133d",
   "metadata": {},
   "source": [
    "In this notebook I will try to fit a single star PSF model to a calibrator star from kernel phase data set. \n",
    "To do that I will need to fit only x, y center positions and median flux as in de Furio paper. In addition to that we I can add phase retrieval and improve model-data fitting\n",
    "\n",
    "To fit a binary model, which I will do in a separate notebook, I will need to have more parameters, but first basic parameters are  x and y center of the primary, flux normalization of the primary, separation between the centers of the primary and secondary, the position angle of the center of the secondary relative to the primary, and the flux ratio between the secondary and primary. On top of that I can add phase retrieval parameters to the model. \n",
    "\n",
    "Functions I need:\n",
    "1. grid search in x,y parameter space\n",
    "2. plots to save\n",
    "3. data for plots to be saved\n",
    "4. de furio like 3x3 plot with fitting single and binary models to the binary data\n",
    "5. sbatch run file\n",
    "6. repeate code for every filter"
   ]
  },
  {
   "cell_type": "code",
   "execution_count": 3,
   "id": "a900a6ca",
   "metadata": {},
   "outputs": [],
   "source": [
    "import jax\n",
    "from jax.config import config\n",
    "config.update(\"jax_enable_x64\", True)\n",
    "\n",
    "import dLux as dl\n",
    "from matplotlib import colors, pyplot as plt\n",
    "import jax.numpy as np\n",
    "from jax import jit, vmap\n",
    "import jax.random as jr\n",
    "\n",
    "import webbpsf\n",
    "from astropy.io import fits\n",
    "import astropy.units as u\n",
    "from tqdm.notebook import tqdm\n",
    "\n",
    "from dLuxWebbpsf import NIRCam"
   ]
  },
  {
   "cell_type": "markdown",
   "id": "92cd4b25",
   "metadata": {},
   "source": [
    "Step 1: Make fake data with the same parameters as real data."
   ]
  },
  {
   "cell_type": "code",
   "execution_count": 43,
   "id": "db05fda1",
   "metadata": {},
   "outputs": [],
   "source": [
    "webb_options = {\n",
    "    'jitter': None,   # jitter model name or None\n",
    "    'jitter_sigma': 0.000,  # in arcsec per axis, default 0.007\n",
    "    'add_distortion': False,\n",
    "}\n",
    "\n",
    "optics = NIRCam(filter = \"F300M\",\n",
    "                pupil_mask = None,\n",
    "                coron_mask = None,\n",
    "                detector = \"NRCA5\",\n",
    "                aperture = \"NRCA5_FULL_MASK430R\",\n",
    "                fft_oversample=1,\n",
    "                fov_arcsec=None,\n",
    "                fov_pixels=56,\n",
    "                options=webb_options)\n",
    "\n",
    "wavels, weights = optics.get_wavelengths()\n",
    "\n",
    "spec = dl.Spectrum(wavels, weights)\n",
    "\n",
    "\n",
    "source_offset_x = 0.1 *  np.pi/(180*3600)\n",
    "source_offset_y = 0.25 *  np.pi/(180*3600)\n",
    "offset = np.array([source_offset_x, source_offset_y])\n",
    "\n",
    "#offset = np.array([-source_offset_y, source_offset_x / 47 * np.pi]) #test with different offset later\n",
    "#offset = np.array([0,0])\n",
    "\n",
    "# wavelengths are still required even if they are discarded\n",
    "source = dl.PointSource(wavelengths=wavels, spectrum=spec, position=offset)\n",
    "\n",
    "\n",
    "telescope = dl.Instrument(optics, (source,'source'))"
   ]
  },
  {
   "cell_type": "markdown",
   "id": "05342370",
   "metadata": {},
   "source": [
    "Step 2: Make an optical model for optimisation where source will be parametrised."
   ]
  },
  {
   "cell_type": "markdown",
   "id": "efb0d4f7",
   "metadata": {},
   "source": [
    "the solution that they have for this same problem in https://github.com/amerand/CANDID, a popular interferometry data analysis code, is to calculate the likelihood on a grid of xy with other parameters held constant, to identify the best position to start\n",
    "see that page - scroll down to ‘CHI2MAP’ and ‘FITMAP’"
   ]
  },
  {
   "cell_type": "code",
   "execution_count": 44,
   "id": "fc42f966",
   "metadata": {},
   "outputs": [],
   "source": [
    "@jit\n",
    "def model_optics_jit():\n",
    "    return telescope.model()"
   ]
  },
  {
   "cell_type": "code",
   "execution_count": 45,
   "id": "b613eac3",
   "metadata": {},
   "outputs": [
    {
     "name": "stdout",
     "output_type": "stream",
     "text": [
      "Modelling optics...\n",
      "Modelling optics...ok\n",
      "CPU times: user 653 ms, sys: 128 ms, total: 781 ms\n",
      "Wall time: 360 ms\n"
     ]
    }
   ],
   "source": [
    "%%time\n",
    "print(\"Modelling optics...\")\n",
    "psf = model_optics_jit()\n",
    "print(\"Modelling optics...ok\")"
   ]
  },
  {
   "cell_type": "code",
   "execution_count": 46,
   "id": "a15f9c05",
   "metadata": {},
   "outputs": [],
   "source": [
    "psf_photon = 1*jr.poisson(jr.PRNGKey(0), psf)\n",
    "bg_noise = 0.01*jr.normal(jr.PRNGKey(0), psf_photon.shape)\n",
    "data = psf_photon + bg_noise"
   ]
  },
  {
   "cell_type": "code",
   "execution_count": 47,
   "id": "844061d6",
   "metadata": {},
   "outputs": [
    {
     "name": "stdout",
     "output_type": "stream",
     "text": [
      "(56, 56)\n"
     ]
    },
    {
     "data": {
      "image/png": "[encoded data removed]",
      "text/plain": [
       "<Figure size 640x480 with 2 Axes>"
      ]
     },
     "metadata": {},
     "output_type": "display_data"
    }
   ],
   "source": [
    "plt.imshow(data, norm=\"log\")\n",
    "plt.colorbar()\n",
    "print(data.shape)"
   ]
  },
  {
   "cell_type": "code",
   "execution_count": 68,
   "id": "af342fe9",
   "metadata": {},
   "outputs": [],
   "source": [
    "parameters = ['source.position']\n",
    "\n",
    "# Define the likelihood function\n",
    "model = telescope\n",
    "\n",
    "# Define the meshgrid\n",
    "xsize = 21\n",
    "ysize = 21\n",
    "allsize = xsize*ysize\n",
    "\n",
    "xmin = -1 * np.pi/(180*3600)\n",
    "xmax = 1 * np.pi/(180*3600)\n",
    "ymin = -1 * np.pi/(180*3600)\n",
    "ymax = 1 * np.pi/(180*3600)\n",
    "\n",
    "xx, yy = np.meshgrid(np.linspace(xmin, xmax, xsize), np.linspace(ymin, ymax, ysize))\n",
    "\n",
    "xr = xx.reshape((allsize))\n",
    "yr = yy.reshape((allsize))\n"
   ]
  },
  {
   "cell_type": "code",
   "execution_count": 69,
   "id": "a7ba5ff2",
   "metadata": {},
   "outputs": [],
   "source": [
    "#this works but slower\n",
    "\n",
    "#@jit\n",
    "#def likelihood(x, y, expected_data):\n",
    "#    model_data = model.set(parameters, [[x, y]]).model()\n",
    "#    residuals = expected_data - model_data\n",
    "#    # calculate the chi-squared value\n",
    "#    chi_squared = np.sum(residuals**2)\n",
    "#    # calculate the likelihood\n",
    "#    likelihood =  -0.5 * chi_squared  #log likelihood\n",
    "#    return likelihood\n",
    "\n",
    "#%%time\n",
    "#likelihoods_list = []\n",
    "#for x, y, token in zip(xr, yr, tqdm(range(allsize))):\n",
    "#    LH = likelihood(x, y, data)\n",
    "#    likelihoods_list.append(LH)\n",
    "#    residuals = data - model.set(parameters, [[x, y]]).model()\n",
    "#    chi_squared = np.sum(residuals**2)\n",
    "#    print(f\"x={x}, y={y}, chi_squared={chi_squared}, likelihood={LH}\")\n",
    "\n",
    "#likelihoods = np.array(likelihoods_list).reshape((xsize, ysize))"
   ]
  },
  {
   "cell_type": "code",
   "execution_count": 70,
   "id": "067e4883",
   "metadata": {},
   "outputs": [],
   "source": [
    "from jax import lax\n",
    "\n",
    "def likelihood(x, y, expected_data):\n",
    "    model_data = model.set(parameters, [[x, y]]).model()\n",
    "    residuals = expected_data - model_data\n",
    "    # calculate the chi-squared value\n",
    "    chi_squared = np.sum(residuals**2)\n",
    "    # calculate the likelihood\n",
    "    likelihood =  -0.5 * chi_squared  #log likelihood\n",
    "    print(f\"x={x}, y={y}, chi_squared={chi_squared}\")\n",
    "    return likelihood\n",
    "\n",
    "@jit\n",
    "def likelihood_fast(x,y,expected_data):\n",
    "    likelihood_c = lambda args : likelihood(args[0], args[1], expected_data)\n",
    "    args = np.stack((x, y), axis=-1)\n",
    "    return lax.map(likelihood_c, args)\n"
   ]
  },
  {
   "cell_type": "code",
   "execution_count": 71,
   "id": "ed49bb4f",
   "metadata": {},
   "outputs": [
    {
     "name": "stdout",
     "output_type": "stream",
     "text": [
      "x=Traced<ShapedArray(float64[])>with<DynamicJaxprTrace(level=2/0)>, y=Traced<ShapedArray(float64[])>with<DynamicJaxprTrace(level=2/0)>, chi_squared=Traced<ShapedArray(float64[])>with<DynamicJaxprTrace(level=2/0)>\n",
      "CPU times: user 3min 4s, sys: 3.15 s, total: 3min 7s\n",
      "Wall time: 35.3 s\n"
     ]
    }
   ],
   "source": [
    "%%time\n",
    "out = likelihood_fast(xr, yr, data)"
   ]
  },
  {
   "cell_type": "code",
   "execution_count": 72,
   "id": "bd2cf7f0",
   "metadata": {},
   "outputs": [
    {
     "name": "stdout",
     "output_type": "stream",
     "text": [
      "[[-3.69850525e+10 -3.71815464e+10 -3.71753912e+10 -3.69895200e+10\n",
      "  -3.73114754e+10 -3.69466361e+10 -3.72458361e+10 -3.70960576e+10\n",
      "  -3.70429791e+10 -3.72703658e+10 -3.69255909e+10 -3.72900131e+10\n",
      "  -3.70199246e+10 -3.71157578e+10 -3.72176654e+10 -3.69528091e+10\n",
      "  -3.73154385e+10 -3.69718612e+10 -3.71993176e+10 -3.71561773e+10\n",
      "  -3.70042945e+10]\n",
      " [-3.72149341e+10 -3.74133561e+10 -3.74070008e+10 -3.72207285e+10\n",
      "  -3.75423178e+10 -3.71737994e+10 -3.74710461e+10 -3.73276322e+10\n",
      "  -3.72789873e+10 -3.75066521e+10 -3.71573954e+10 -3.75036851e+10\n",
      "  -3.72491492e+10 -3.73512462e+10 -3.74544838e+10 -3.71861208e+10\n",
      "  -3.75438047e+10 -3.72010157e+10 -3.74294663e+10 -3.73883118e+10\n",
      "  -3.72360717e+10]\n",
      " [-3.71250466e+10 -3.73237982e+10 -3.73186880e+10 -3.71332710e+10\n",
      "  -3.74518943e+10 -3.70857302e+10 -3.73853217e+10 -3.72380021e+10\n",
      "  -3.71931670e+10 -3.74187939e+10 -3.70652707e+10 -3.74083600e+10\n",
      "  -3.71571997e+10 -3.72649797e+10 -3.73704787e+10 -3.70981824e+10\n",
      "  -3.74549166e+10 -3.71112788e+10 -3.73398758e+10 -3.73010723e+10\n",
      "  -3.71476053e+10]\n",
      " [-3.70307830e+10 -3.72315585e+10 -3.72283798e+10 -3.70453212e+10\n",
      "  -3.73653346e+10 -3.69963398e+10 -3.72957972e+10 -3.71487807e+10\n",
      "  -3.71049763e+10 -3.73326832e+10 -3.69817618e+10 -3.73120069e+10\n",
      "  -3.70761728e+10 -3.71773278e+10 -3.72820350e+10 -3.70099897e+10\n",
      "  -3.73615832e+10 -3.70237972e+10 -3.72501260e+10 -3.72124595e+10\n",
      "  -3.70578486e+10]\n",
      " [-3.72652518e+10 -3.74564070e+10 -3.74539749e+10 -3.72764025e+10\n",
      "  -3.75947314e+10 -3.72296976e+10 -3.75185106e+10 -3.73573054e+10\n",
      "  -3.73265872e+10 -3.75579985e+10 -3.72058664e+10 -3.75393875e+10\n",
      "  -3.72947619e+10 -3.73979849e+10 -3.75100831e+10 -3.72269671e+10\n",
      "  -3.75840573e+10 -3.72553967e+10 -3.74836023e+10 -3.74441574e+10\n",
      "  -3.72819813e+10]\n",
      " [-3.69510008e+10 -3.71480508e+10 -3.71457621e+10 -3.69674717e+10\n",
      "  -3.72886099e+10 -3.69134540e+10 -3.72022053e+10 -3.70543997e+10\n",
      "  -3.70128262e+10 -3.72482123e+10 -3.68957534e+10 -3.72430963e+10\n",
      "  -3.69812253e+10 -3.70872180e+10 -3.71911148e+10 -3.69171508e+10\n",
      "  -3.72680641e+10 -3.69408433e+10 -3.71749559e+10 -3.71322972e+10\n",
      "  -3.69721431e+10]\n",
      " [-3.72476850e+10 -3.74304369e+10 -3.74309970e+10 -3.72559775e+10\n",
      "  -3.75788037e+10 -3.72105467e+10 -3.75025788e+10 -3.73291585e+10\n",
      "  -3.72535721e+10 -3.75030948e+10 -3.71960517e+10 -3.75533016e+10\n",
      "  -3.72815478e+10 -3.73575188e+10 -3.74316363e+10 -3.71875072e+10\n",
      "  -3.75649954e+10 -3.72359499e+10 -3.74603535e+10 -3.74201609e+10\n",
      "  -3.72598540e+10]\n",
      " [-3.70475053e+10 -3.72065298e+10 -3.72056806e+10 -3.70326011e+10\n",
      "  -3.73565517e+10 -3.69896480e+10 -3.72808817e+10 -3.70840022e+10\n",
      "  -3.70036387e+10 -3.73016722e+10 -3.69840186e+10 -3.73512966e+10\n",
      "  -3.70724449e+10 -3.71481203e+10 -3.71805542e+10 -3.69495449e+10\n",
      "  -3.73519512e+10 -3.69979001e+10 -3.72365610e+10 -3.72057002e+10\n",
      "  -3.70343778e+10]\n",
      " [-3.70918237e+10 -3.72814672e+10 -3.72680527e+10 -3.70232424e+10\n",
      "  -3.73692949e+10 -3.70228150e+10 -3.73267581e+10 -3.71502196e+10\n",
      "  -3.69892762e+10 -3.72276646e+10 -3.69112005e+10 -3.73282305e+10\n",
      "  -3.69950229e+10 -3.70487672e+10 -3.71584141e+10 -3.70124715e+10\n",
      "  -3.73872724e+10 -3.70413778e+10 -3.72556758e+10 -3.71970495e+10\n",
      "  -3.70954969e+10]\n",
      " [-3.72272212e+10 -3.74234172e+10 -3.74070091e+10 -3.71887484e+10\n",
      "  -3.75077421e+10 -3.71613122e+10 -3.74556796e+10 -3.72810561e+10\n",
      "  -3.71205849e+10 -3.72288743e+10 -3.67694858e+10 -3.73920249e+10\n",
      "  -3.68608205e+10 -3.70235899e+10 -3.72945073e+10 -3.71466794e+10\n",
      "  -3.75325690e+10 -3.71889382e+10 -3.73972949e+10 -3.73608333e+10\n",
      "  -3.72278862e+10]\n",
      " [-3.69702247e+10 -3.71635930e+10 -3.71464203e+10 -3.69293142e+10\n",
      "  -3.72639715e+10 -3.69026068e+10 -3.71962122e+10 -3.70263951e+10\n",
      "  -3.67544802e+10 -3.68819227e+10 -3.64925298e+10 -3.64695637e+10\n",
      "  -3.65851264e+10 -3.67140344e+10 -3.69479554e+10 -3.68875165e+10\n",
      "  -3.72704116e+10 -3.69257682e+10 -3.71455594e+10 -3.70984357e+10\n",
      "  -3.69772636e+10]\n",
      " [-3.72823181e+10 -3.74666343e+10 -3.74418039e+10 -3.72662001e+10\n",
      "  -3.75400914e+10 -3.71693560e+10 -3.74738592e+10 -3.72228728e+10\n",
      "  -3.71558156e+10 -3.66704008e+10 -3.51666331e+10 -3.42320162e+10\n",
      "  -3.51770878e+10 -3.66183421e+10 -3.73570466e+10 -3.70825717e+10\n",
      "  -3.75438565e+10 -3.71738403e+10 -3.74261741e+10 -3.74273157e+10\n",
      "  -3.72777943e+10]\n",
      " [-3.69825165e+10 -3.71608639e+10 -3.71567472e+10 -3.69607005e+10\n",
      "  -3.72335805e+10 -3.68134232e+10 -3.70869574e+10 -3.66938442e+10\n",
      "  -3.66778404e+10 -3.51718734e+10 -3.04751049e+10 -1.12086843e+10\n",
      "  -3.05653346e+10 -3.51087207e+10 -3.69183837e+10 -3.65603478e+10\n",
      "  -3.71534345e+10 -3.68508867e+10 -3.71172454e+10 -3.71149124e+10\n",
      "  -3.69875180e+10]\n",
      " [-3.71437316e+10 -3.73195571e+10 -3.73200869e+10 -3.71118029e+10\n",
      "  -3.73898864e+10 -3.69754065e+10 -3.72436167e+10 -3.68321414e+10\n",
      "  -3.68327249e+10 -3.55326192e+10 -3.09975313e+10 -1.16468127e+10\n",
      "  -3.05929042e+10 -3.50929661e+10 -3.70757114e+10 -3.67366206e+10\n",
      "  -3.73167042e+10 -3.70069786e+10 -3.72818116e+10 -3.72830963e+10\n",
      "  -3.71472616e+10]\n",
      " [-3.71712293e+10 -3.73580122e+10 -3.73391328e+10 -3.71506953e+10\n",
      "  -3.74344731e+10 -3.70413523e+10 -3.73672321e+10 -3.71049872e+10\n",
      "  -3.70455183e+10 -3.66753817e+10 -3.51272936e+10 -3.43064667e+10\n",
      "  -3.52068809e+10 -3.63924750e+10 -3.72245460e+10 -3.69734272e+10\n",
      "  -3.74359750e+10 -3.70877586e+10 -3.73145588e+10 -3.73200643e+10\n",
      "  -3.71631188e+10]\n",
      " [-3.70049194e+10 -3.71982580e+10 -3.71810722e+10 -3.69652374e+10\n",
      "  -3.72937563e+10 -3.69304494e+10 -3.72335088e+10 -3.70609106e+10\n",
      "  -3.68032566e+10 -3.69179019e+10 -3.65424754e+10 -3.65027569e+10\n",
      "  -3.65916573e+10 -3.67524059e+10 -3.69701303e+10 -3.69162484e+10\n",
      "  -3.72989858e+10 -3.69638921e+10 -3.71817841e+10 -3.71285892e+10\n",
      "  -3.70083506e+10]\n",
      " [-3.72851893e+10 -3.74795200e+10 -3.74607316e+10 -3.72529756e+10\n",
      "  -3.75688954e+10 -3.72175910e+10 -3.75210027e+10 -3.73469276e+10\n",
      "  -3.71752743e+10 -3.72582786e+10 -3.68572848e+10 -3.74326729e+10\n",
      "  -3.69057004e+10 -3.71316260e+10 -3.73548774e+10 -3.71962845e+10\n",
      "  -3.75785582e+10 -3.72473706e+10 -3.74517584e+10 -3.74151865e+10\n",
      "  -3.72931365e+10]\n",
      " [-3.69626650e+10 -3.71525329e+10 -3.71391945e+10 -3.69027161e+10\n",
      "  -3.72417053e+10 -3.68896367e+10 -3.71921191e+10 -3.70277235e+10\n",
      "  -3.68535966e+10 -3.70829255e+10 -3.67926014e+10 -3.72009301e+10\n",
      "  -3.68598700e+10 -3.69320300e+10 -3.70241704e+10 -3.68718673e+10\n",
      "  -3.72671345e+10 -3.69217813e+10 -3.71292185e+10 -3.70667198e+10\n",
      "  -3.69653805e+10]\n",
      " [-3.72078756e+10 -3.73718662e+10 -3.73699884e+10 -3.72023208e+10\n",
      "  -3.75143791e+10 -3.71357563e+10 -3.74471198e+10 -3.72565630e+10\n",
      "  -3.71770564e+10 -3.74681276e+10 -3.71435311e+10 -3.75152756e+10\n",
      "  -3.72358678e+10 -3.73116844e+10 -3.73454264e+10 -3.70967948e+10\n",
      "  -3.75102770e+10 -3.71778820e+10 -3.74045762e+10 -3.73632182e+10\n",
      "  -3.71953991e+10]\n",
      " [-3.70932623e+10 -3.72820835e+10 -3.72805434e+10 -3.71020277e+10\n",
      "  -3.74243168e+10 -3.70611467e+10 -3.73494792e+10 -3.71794217e+10\n",
      "  -3.71082039e+10 -3.73672636e+10 -3.70405525e+10 -3.74030849e+10\n",
      "  -3.71363336e+10 -3.72014676e+10 -3.72824962e+10 -3.70366166e+10\n",
      "  -3.74203718e+10 -3.70863981e+10 -3.73142307e+10 -3.72727506e+10\n",
      "  -3.71099214e+10]\n",
      " [-3.70425900e+10 -3.72383305e+10 -3.72351955e+10 -3.70585062e+10\n",
      "  -3.73800846e+10 -3.70073367e+10 -3.72922676e+10 -3.71517500e+10\n",
      "  -3.71069856e+10 -3.73372035e+10 -3.69835724e+10 -3.73321153e+10\n",
      "  -3.70798799e+10 -3.71830731e+10 -3.72808502e+10 -3.70046308e+10\n",
      "  -3.73648057e+10 -3.70320357e+10 -3.72679171e+10 -3.72268520e+10\n",
      "  -3.70667513e+10]]\n",
      "0.1000000000000001 0.20000000000000007\n"
     ]
    }
   ],
   "source": [
    "likelihoods = np.array(out).reshape((xsize, ysize))\n",
    "print(likelihoods)\n",
    "\n",
    "ind_argmax = out.argmax()\n",
    "coords=(xr[ind_argmax], yr[ind_argmax])\n",
    "\n",
    "#ind_max = np.unravel_index(likelihoods.argmax(), likelihoods.shape)\n",
    "#coords=(xx[ind_max[0], ind_max[1]], yy[ind_max[0], ind_max[1]])\n",
    "\n",
    "x_recovered = coords[0] / np.pi * (180*3600)\n",
    "y_recovered = coords[1] / np.pi * (180*3600)\n",
    "\n",
    "print(x_recovered, y_recovered)"
   ]
  },
  {
   "cell_type": "markdown",
   "id": "77746bf4",
   "metadata": {},
   "source": [
    "Step 3: Set up HMC parameters and distributions."
   ]
  },
  {
   "cell_type": "code",
   "execution_count": null,
   "id": "ddb0ed2e",
   "metadata": {},
   "outputs": [],
   "source": []
  },
  {
   "cell_type": "code",
   "execution_count": null,
   "id": "9753e697",
   "metadata": {},
   "outputs": [],
   "source": []
  },
  {
   "cell_type": "markdown",
   "id": "036680f1",
   "metadata": {},
   "source": [
    "Step 4: Run HMC and make pretty plots."
   ]
  },
  {
   "cell_type": "code",
   "execution_count": null,
   "id": "6567031a",
   "metadata": {},
   "outputs": [],
   "source": []
  }
 ],
 "metadata": {
  "kernelspec": {
   "display_name": "Python [conda env:dlux_env]",
   "language": "python",
   "name": "conda-env-dlux_env-py"
  },
  "language_info": {
   "codemirror_mode": {
    "name": "ipython",
    "version": 3
   },
   "file_extension": ".py",
   "mimetype": "text/x-python",
   "name": "python",
   "nbconvert_exporter": "python",
   "pygments_lexer": "ipython3",
   "version": "3.10.10"
  }
 },
 "nbformat": 4,
 "nbformat_minor": 5
}
