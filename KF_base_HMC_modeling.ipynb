{
 "cells": [
  {
   "cell_type": "markdown",
   "id": "30df133d",
   "metadata": {},
   "source": [
    "In this notebook I will try to fit a single star PSF model to a calibrator star from kernel phase data set. \n",
    "To do that I will need to fit only x, y center positions and median flux as in de Furio paper. In addition to that we I can add phase retrieval and improve model-data fitting\n",
    "\n",
    "To fit a binary model, which I will do in a separate notebook, I will need to have more parameters, but first basic parameters are  x and y center of the primary, flux normalization of the primary, separation between the centers of the primary and secondary, the position angle of the center of the secondary relative to the primary, and the flux ratio between the secondary and primary. On top of that I can add phase retrieval parameters to the model. \n",
    "\n",
    "Functions I need:\n",
    "1. grid search in x,y parameter space\n",
    "2. plots to save\n",
    "3. data for plots to be saved\n",
    "4. de furio like 3x3 plot with fitting single and binary models to the binary data\n",
    "5. sbatch run file\n",
    "6. repeate code for every filter"
   ]
  },
  {
   "cell_type": "code",
   "execution_count": 69,
   "id": "3a139b0c",
   "metadata": {},
   "outputs": [],
   "source": [
    "import jax\n",
    "from jax.config import config\n",
    "config.update(\"jax_enable_x64\", True)\n",
    "\n",
    "import dLux as dl\n",
    "from matplotlib import colors, pyplot as plt\n",
    "import jax.numpy as np\n",
    "from jax import jit, vmap\n",
    "import jax.random as jr\n",
    "\n",
    "import webbpsf\n",
    "from astropy.io import fits\n",
    "import astropy.units as u\n",
    "from tqdm.notebook import tqdm\n",
    "\n",
    "from dLuxWebbpsf import NIRCam\n",
    "\n",
    "def cart2pol(x, y):\n",
    "    rho = np.sqrt(x**2 + y**2)\n",
    "    theta = np.arctan2(y, x)\n",
    "    return(rho, theta)\n",
    "\n",
    "def pol2cart(rho, theta):\n",
    "    x = rho * np.cos(theta)\n",
    "    y = rho * np.sin(theta)\n",
    "    return(x, y)\n",
    "\n",
    "def toRad(arcsecs):\n",
    "    return arcsecs * np.pi / (180*3600)\n",
    "\n",
    "def toArcsec(radians):\n",
    "    return radians / np.pi * (180*3600)"
   ]
  },
  {
   "cell_type": "markdown",
   "id": "2e597c28",
   "metadata": {},
   "source": [
    "Step 1: Make fake data with the same parameters as real data."
   ]
  },
  {
   "cell_type": "code",
   "execution_count": 2,
   "id": "8f119751",
   "metadata": {},
   "outputs": [],
   "source": [
    "webb_options = {\n",
    "    'jitter': None,   # jitter model name or None\n",
    "    'jitter_sigma': 0.000,  # in arcsec per axis, default 0.007\n",
    "    'add_distortion': False,\n",
    "}\n",
    "\n",
    "optics = NIRCam(filter = \"F300M\",\n",
    "                pupil_mask = None,\n",
    "                coron_mask = None,\n",
    "                detector = \"NRCA5\",\n",
    "                aperture = \"NRCA5_FULL_MASK430R\",\n",
    "                fft_oversample=1,\n",
    "                fov_arcsec=None,\n",
    "                fov_pixels=56,\n",
    "                options=webb_options)\n",
    "\n",
    "wavels, weights = optics.get_wavelengths()\n",
    "\n",
    "spec = dl.Spectrum(wavels, weights)\n",
    "\n",
    "\n",
    "source_offset_x = toRad(0.1)\n",
    "source_offset_y = toRad(0.25)\n",
    "offset = np.array([source_offset_x, source_offset_y])\n",
    "\n",
    "#offset = np.array([-source_offset_y, source_offset_x / 47 * np.pi]) #test with different offset later\n",
    "#offset = np.array([0,0])\n",
    "\n",
    "# wavelengths are still required even if they are discarded\n",
    "source = dl.PointSource(wavelengths=wavels, spectrum=spec, position=offset)\n",
    "\n",
    "\n",
    "telescope = dl.Instrument(optics, (source,'source'))"
   ]
  },
  {
   "cell_type": "markdown",
   "id": "e0998c34",
   "metadata": {},
   "source": [
    "Step 2: Make an optical model for optimisation where source will be parametrised."
   ]
  },
  {
   "cell_type": "markdown",
   "id": "0c31f43d",
   "metadata": {},
   "source": [
    "the solution that they have for this same problem in https://github.com/amerand/CANDID, a popular interferometry data analysis code, is to calculate the likelihood on a grid of xy with other parameters held constant, to identify the best position to start\n",
    "see that page - scroll down to ‘CHI2MAP’ and ‘FITMAP’"
   ]
  },
  {
   "cell_type": "code",
   "execution_count": 3,
   "id": "6c2f56e8",
   "metadata": {},
   "outputs": [],
   "source": [
    "@jit\n",
    "def model_optics_jit():\n",
    "    return telescope.model()"
   ]
  },
  {
   "cell_type": "code",
   "execution_count": 4,
   "id": "4918823d",
   "metadata": {},
   "outputs": [
    {
     "name": "stdout",
     "output_type": "stream",
     "text": [
      "Modelling optics...\n",
      "Modelling optics...ok\n",
      "CPU times: user 936 ms, sys: 216 ms, total: 1.15 s\n",
      "Wall time: 582 ms\n"
     ]
    }
   ],
   "source": [
    "%%time\n",
    "print(\"Modelling optics...\")\n",
    "psf = model_optics_jit()\n",
    "print(\"Modelling optics...ok\")"
   ]
  },
  {
   "cell_type": "code",
   "execution_count": 5,
   "id": "07368a12",
   "metadata": {},
   "outputs": [],
   "source": [
    "psf_photon = 1*jr.poisson(jr.PRNGKey(0), psf)\n",
    "bg_noise = 0.01*jr.normal(jr.PRNGKey(0), psf_photon.shape)\n",
    "data = psf_photon + bg_noise"
   ]
  },
  {
   "cell_type": "code",
   "execution_count": 6,
   "id": "afd473be",
   "metadata": {},
   "outputs": [
    {
     "name": "stdout",
     "output_type": "stream",
     "text": [
      "(56, 56)\n"
     ]
    },
    {
     "data": {
      "image/png": "[encoded data removed]",
      "text/plain": [
       "<Figure size 640x480 with 2 Axes>"
      ]
     },
     "metadata": {},
     "output_type": "display_data"
    }
   ],
   "source": [
    "plt.imshow(data, norm=\"log\")\n",
    "plt.colorbar()\n",
    "print(data.shape)"
   ]
  },
  {
   "cell_type": "code",
   "execution_count": 7,
   "id": "6b262742",
   "metadata": {},
   "outputs": [
    {
     "data": {
      "text/plain": [
       "Array([[ 9.69421712e-05,  4.56163434e-03,  1.46468314e-02, ...,\n",
       "         2.91574146e-03,  1.70311197e-02, -1.18000194e-02],\n",
       "       [-1.70496875e-03,  1.16488294e-02,  2.02733494e-03, ...,\n",
       "        -1.09397557e-02, -3.02945051e-04, -2.02981888e-02],\n",
       "       [-2.19903176e-03,  8.58121314e-03, -1.43917509e-02, ...,\n",
       "         8.27509163e-03, -1.85054112e-04, -9.29136722e-03],\n",
       "       ...,\n",
       "       [ 1.99028162e-02,  5.42850789e-03,  3.58092774e-03, ...,\n",
       "         9.54150584e-03,  6.15216394e-03,  1.92043174e-02],\n",
       "       [ 6.26511246e-03, -5.62629792e-03,  2.85554249e-03, ...,\n",
       "         1.06733267e-04,  1.49859549e-02,  3.34222966e-03],\n",
       "       [-7.10211102e-03,  6.88654149e-03, -4.04364390e-03, ...,\n",
       "        -4.21703563e-03, -1.64874173e-03,  3.50781004e-03]],      dtype=float64)"
      ]
     },
     "execution_count": 7,
     "metadata": {},
     "output_type": "execute_result"
    }
   ],
   "source": [
    "bg_noise"
   ]
  },
  {
   "cell_type": "markdown",
   "id": "95c34b78",
   "metadata": {},
   "source": [
    "Now as we got fake data, lets tru to grid search the star position so we can pass it to the HMC as initial guess. "
   ]
  },
  {
   "cell_type": "code",
   "execution_count": 8,
   "id": "7804f55b",
   "metadata": {},
   "outputs": [],
   "source": [
    "parameters = ['source.position']\n",
    "\n",
    "# Define the likelihood function\n",
    "model = telescope\n",
    "\n",
    "# Define the meshgrid\n",
    "xsize = 21\n",
    "ysize = 21\n",
    "allsize = xsize*ysize\n",
    "\n",
    "xmin = toRad(-1)\n",
    "xmax = toRad(1)\n",
    "ymin = toRad(-1)\n",
    "ymax = toRad(1)\n",
    "\n",
    "xx, yy = np.meshgrid(np.linspace(xmin, xmax, xsize), np.linspace(ymin, ymax, ysize))\n",
    "\n",
    "xr = xx.reshape((allsize))\n",
    "yr = yy.reshape((allsize))\n"
   ]
  },
  {
   "cell_type": "code",
   "execution_count": 9,
   "id": "4298a9d8",
   "metadata": {},
   "outputs": [],
   "source": [
    "from jax import lax\n",
    "\n",
    "def likelihood(x, y, expected_data):\n",
    "    model_data = model.set(parameters, [[x, y]]).model()\n",
    "    residuals = expected_data - model_data\n",
    "    # calculate the chi-squared value\n",
    "    chi_squared = np.sum(residuals**2)\n",
    "    # calculate the likelihood\n",
    "    likelihood =  -0.5 * chi_squared  #log likelihood\n",
    "    print(f\"x={x}, y={y}, chi_squared={chi_squared}\")\n",
    "    return likelihood\n",
    "\n",
    "@jit\n",
    "def likelihood_fast(x,y,expected_data):\n",
    "    likelihood_c = lambda args : likelihood(args[0], args[1], expected_data)\n",
    "    args = np.stack((x, y), axis=-1)\n",
    "    return lax.map(likelihood_c, args)\n"
   ]
  },
  {
   "cell_type": "code",
   "execution_count": 10,
   "id": "86531d8f",
   "metadata": {},
   "outputs": [
    {
     "name": "stdout",
     "output_type": "stream",
     "text": [
      "x=Traced<ShapedArray(float64[])>with<DynamicJaxprTrace(level=2/0)>, y=Traced<ShapedArray(float64[])>with<DynamicJaxprTrace(level=2/0)>, chi_squared=Traced<ShapedArray(float64[])>with<DynamicJaxprTrace(level=2/0)>\n",
      "CPU times: user 7min 19s, sys: 8.36 s, total: 7min 28s\n",
      "Wall time: 1min 35s\n"
     ]
    }
   ],
   "source": [
    "%%time\n",
    "out = likelihood_fast(xr, yr, data)"
   ]
  },
  {
   "cell_type": "code",
   "execution_count": 74,
   "id": "6fa126fc",
   "metadata": {},
   "outputs": [
    {
     "name": "stdout",
     "output_type": "stream",
     "text": [
      "   rad: 4.848136811095365e-07, 9.696273622190723e-07\n",
      "arcsec: 0.1000000000000001, 0.20000000000000007\n",
      "rho,th: 0.22360679774997907, 1.1071487177940902\n"
     ]
    }
   ],
   "source": [
    "likelihoods = np.array(out).reshape((xsize, ysize))\n",
    "#print(likelihoods)\n",
    "\n",
    "ind_argmax = out.argmax()\n",
    "coords=(xr[ind_argmax], yr[ind_argmax])\n",
    "\n",
    "#ind_max = np.unravel_index(likelihoods.argmax(), likelihoods.shape)\n",
    "#coords=(xx[ind_max[0], ind_max[1]], yy[ind_max[0], ind_max[1]])\n",
    "\n",
    "x_recovered = toArcsec(coords[0])\n",
    "y_recovered = toArcsec(coords[1])\n",
    "\n",
    "print(f'   rad: {coords[0]}, {coords[1]}')\n",
    "print(f'arcsec: {x_recovered}, {y_recovered}')\n",
    "print(f'rho,th: {rho_rec}, {theta_rec}')"
   ]
  },
  {
   "cell_type": "code",
   "execution_count": 12,
   "id": "d1a6f4a9",
   "metadata": {},
   "outputs": [
    {
     "name": "stdout",
     "output_type": "stream",
     "text": [
      "13.297620671710632\n"
     ]
    }
   ],
   "source": [
    "flux = np.sum(data)\n",
    "log_flux = np.log(flux)\n",
    "print(log_flux)"
   ]
  },
  {
   "cell_type": "code",
   "execution_count": 13,
   "id": "5e1f492b",
   "metadata": {},
   "outputs": [
    {
     "data": {
      "text/plain": [
       "<matplotlib.image.AxesImage at 0x2bff47b20>"
      ]
     },
     "execution_count": 13,
     "metadata": {},
     "output_type": "execute_result"
    },
    {
     "data": {
      "image/png": "[encoded data removed]",
      "text/plain": [
       "<Figure size 640x480 with 1 Axes>"
      ]
     },
     "metadata": {},
     "output_type": "display_data"
    }
   ],
   "source": [
    "plt.imshow(likelihoods)"
   ]
  },
  {
   "cell_type": "code",
   "execution_count": 14,
   "id": "462bd45a",
   "metadata": {},
   "outputs": [],
   "source": [
    "std = np.std(bg_noise)\n"
   ]
  },
  {
   "cell_type": "code",
   "execution_count": 15,
   "id": "8a757bff",
   "metadata": {},
   "outputs": [
    {
     "data": {
      "text/plain": [
       "Array(0.0098754, dtype=float64)"
      ]
     },
     "execution_count": 15,
     "metadata": {},
     "output_type": "execute_result"
    }
   ],
   "source": [
    "std"
   ]
  },
  {
   "cell_type": "markdown",
   "id": "24f75d11",
   "metadata": {},
   "source": [
    "Step 3: Set up HMC parameters and distributions."
   ]
  },
  {
   "cell_type": "code",
   "execution_count": 85,
   "id": "ab6acbd5",
   "metadata": {},
   "outputs": [
    {
     "name": "stdout",
     "output_type": "stream",
     "text": [
      "rho: 2.3606797749979087 - 22.36067977499791 - 42.360679774997905\n"
     ]
    }
   ],
   "source": [
    "import numpyro as npy\n",
    "import numpyro.distributions as dist\n",
    "\n",
    "parameters = ['position', 'flux']\n",
    "std = 0.01 * np.ones_like(data.flatten())\n",
    "coord_scale = 100\n",
    "\n",
    "rho_rec, theta_rec = cart2pol(x_recovered * coord_scale, y_recovered * coord_scale)\n",
    "\n",
    "rho_min = max(rho_rec - 20, 0)\n",
    "rho_max = rho_rec + 20\n",
    "\n",
    "print(f'rho: {rho_min} - {rho_rec} - {rho_max}')\n",
    "\n",
    "def psf_model(data, model):\n",
    "    \"\"\"\n",
    "    Define the numpyro function\n",
    "    \"\"\"\n",
    "    #x_sample = npy.sample(\"x_arcsec\",        dist.Uniform((x_recovered - 0.2) * 100, (x_recovered + 0.2) * 100))\n",
    "    #y_sample = npy.sample(\"y_arcsec\",        dist.Uniform((y_recovered - 0.2) * 100, (y_recovered + 0.2) * 100))\n",
    "    \n",
    "    theta_sample = npy.sample(\"theta\", dist.Uniform(theta_rec - 0.25 * np.pi, theta_rec + 0.25 * np.pi))\n",
    "    rho_sample   = npy.sample(\"rho\", dist.Uniform(rho_min, rho_max))\n",
    "    \n",
    "    flux_sample  = npy.sample(\"log_flux\", dist.Uniform(log_flux-3, log_flux+3))\n",
    "    \n",
    "    det_x = npy.deterministic(\"x\", rho_sample / coord_scale * np.cos(theta_sample))\n",
    "    det_y = npy.deterministic(\"y\", rho_sample / coord_scale * np.sin(theta_sample))\n",
    "    \n",
    "    det_flux = np.exp(flux_sample)\n",
    "    #det_x = toRad(x_sample / 100)\n",
    "    #det_y = toRad(y_sample / 100)\n",
    "    \n",
    "    values = [\n",
    "        [det_x, det_y],\n",
    "        det_flux\n",
    "    ]\n",
    "    \n",
    "    data_min = np.abs(data.min())\n",
    "\n",
    "    with npy.plate(\"data\", len(data.flatten())):\n",
    "        dist_model = dist.Normal(\n",
    "            model.set(parameters, values).model().flatten(),\n",
    "            std.flatten())\n",
    "        return npy.sample(\"psf\", dist_model, obs=(data.flatten()))"
   ]
  },
  {
   "cell_type": "code",
   "execution_count": 86,
   "id": "7b7d0e5b",
   "metadata": {},
   "outputs": [],
   "source": [
    "#sampler. run(jax. random. PRNGKey(0), yerr, y-y)\n",
    "#inf_data = az. from_numpyro (sampler)\n",
    "#inf_data.to_netcdf(os-path.join(self.outputs,(self.hdnum+*_*+self-method+*h5°)))"
   ]
  },
  {
   "cell_type": "code",
   "execution_count": 87,
   "id": "f3126b98",
   "metadata": {},
   "outputs": [
    {
     "name": "stderr",
     "output_type": "stream",
     "text": [
      "warmup:   3%| | 53/2000 [47:52<29:18:55, 54.20s/it, 1023 steps of size 2.25e-19.\n"
     ]
    },
    {
     "ename": "KeyboardInterrupt",
     "evalue": "",
     "output_type": "error",
     "traceback": [
      "\u001b[0;31m---------------------------------------------------------------------------\u001b[0m",
      "\u001b[0;31mKeyboardInterrupt\u001b[0m                         Traceback (most recent call last)",
      "File \u001b[0;32m<timed eval>:1\u001b[0m\n",
      "File \u001b[0;32m~/anaconda3/envs/dlux_env/lib/python3.10/site-packages/numpyro/infer/mcmc.py:594\u001b[0m, in \u001b[0;36mMCMC.run\u001b[0;34m(self, rng_key, extra_fields, init_params, *args, **kwargs)\u001b[0m\n\u001b[1;32m    592\u001b[0m map_args \u001b[38;5;241m=\u001b[39m (rng_key, init_state, init_params)\n\u001b[1;32m    593\u001b[0m \u001b[38;5;28;01mif\u001b[39;00m \u001b[38;5;28mself\u001b[39m\u001b[38;5;241m.\u001b[39mnum_chains \u001b[38;5;241m==\u001b[39m \u001b[38;5;241m1\u001b[39m:\n\u001b[0;32m--> 594\u001b[0m     states_flat, last_state \u001b[38;5;241m=\u001b[39m \u001b[43mpartial_map_fn\u001b[49m\u001b[43m(\u001b[49m\u001b[43mmap_args\u001b[49m\u001b[43m)\u001b[49m\n\u001b[1;32m    595\u001b[0m     states \u001b[38;5;241m=\u001b[39m tree_map(\u001b[38;5;28;01mlambda\u001b[39;00m x: x[jnp\u001b[38;5;241m.\u001b[39mnewaxis, \u001b[38;5;241m.\u001b[39m\u001b[38;5;241m.\u001b[39m\u001b[38;5;241m.\u001b[39m], states_flat)\n\u001b[1;32m    596\u001b[0m \u001b[38;5;28;01melse\u001b[39;00m:\n",
      "File \u001b[0;32m~/anaconda3/envs/dlux_env/lib/python3.10/site-packages/numpyro/infer/mcmc.py:404\u001b[0m, in \u001b[0;36mMCMC._single_chain_mcmc\u001b[0;34m(self, init, args, kwargs, collect_fields)\u001b[0m\n\u001b[1;32m    398\u001b[0m collection_size \u001b[38;5;241m=\u001b[39m \u001b[38;5;28mself\u001b[39m\u001b[38;5;241m.\u001b[39m_collection_params[\u001b[38;5;124m\"\u001b[39m\u001b[38;5;124mcollection_size\u001b[39m\u001b[38;5;124m\"\u001b[39m]\n\u001b[1;32m    399\u001b[0m collection_size \u001b[38;5;241m=\u001b[39m (\n\u001b[1;32m    400\u001b[0m     collection_size\n\u001b[1;32m    401\u001b[0m     \u001b[38;5;28;01mif\u001b[39;00m collection_size \u001b[38;5;129;01mis\u001b[39;00m \u001b[38;5;28;01mNone\u001b[39;00m\n\u001b[1;32m    402\u001b[0m     \u001b[38;5;28;01melse\u001b[39;00m collection_size \u001b[38;5;241m/\u001b[39m\u001b[38;5;241m/\u001b[39m \u001b[38;5;28mself\u001b[39m\u001b[38;5;241m.\u001b[39mthinning\n\u001b[1;32m    403\u001b[0m )\n\u001b[0;32m--> 404\u001b[0m collect_vals \u001b[38;5;241m=\u001b[39m \u001b[43mfori_collect\u001b[49m\u001b[43m(\u001b[49m\n\u001b[1;32m    405\u001b[0m \u001b[43m    \u001b[49m\u001b[43mlower_idx\u001b[49m\u001b[43m,\u001b[49m\n\u001b[1;32m    406\u001b[0m \u001b[43m    \u001b[49m\u001b[43mupper_idx\u001b[49m\u001b[43m,\u001b[49m\n\u001b[1;32m    407\u001b[0m \u001b[43m    \u001b[49m\u001b[43msample_fn\u001b[49m\u001b[43m,\u001b[49m\n\u001b[1;32m    408\u001b[0m \u001b[43m    \u001b[49m\u001b[43minit_val\u001b[49m\u001b[43m,\u001b[49m\n\u001b[1;32m    409\u001b[0m \u001b[43m    \u001b[49m\u001b[43mtransform\u001b[49m\u001b[38;5;241;43m=\u001b[39;49m\u001b[43m_collect_fn\u001b[49m\u001b[43m(\u001b[49m\u001b[43mcollect_fields\u001b[49m\u001b[43m)\u001b[49m\u001b[43m,\u001b[49m\n\u001b[1;32m    410\u001b[0m \u001b[43m    \u001b[49m\u001b[43mprogbar\u001b[49m\u001b[38;5;241;43m=\u001b[39;49m\u001b[38;5;28;43mself\u001b[39;49m\u001b[38;5;241;43m.\u001b[39;49m\u001b[43mprogress_bar\u001b[49m\u001b[43m,\u001b[49m\n\u001b[1;32m    411\u001b[0m \u001b[43m    \u001b[49m\u001b[43mreturn_last_val\u001b[49m\u001b[38;5;241;43m=\u001b[39;49m\u001b[38;5;28;43;01mTrue\u001b[39;49;00m\u001b[43m,\u001b[49m\n\u001b[1;32m    412\u001b[0m \u001b[43m    \u001b[49m\u001b[43mthinning\u001b[49m\u001b[38;5;241;43m=\u001b[39;49m\u001b[38;5;28;43mself\u001b[39;49m\u001b[38;5;241;43m.\u001b[39;49m\u001b[43mthinning\u001b[49m\u001b[43m,\u001b[49m\n\u001b[1;32m    413\u001b[0m \u001b[43m    \u001b[49m\u001b[43mcollection_size\u001b[49m\u001b[38;5;241;43m=\u001b[39;49m\u001b[43mcollection_size\u001b[49m\u001b[43m,\u001b[49m\n\u001b[1;32m    414\u001b[0m \u001b[43m    \u001b[49m\u001b[43mprogbar_desc\u001b[49m\u001b[38;5;241;43m=\u001b[39;49m\u001b[43mpartial\u001b[49m\u001b[43m(\u001b[49m\u001b[43m_get_progbar_desc_str\u001b[49m\u001b[43m,\u001b[49m\u001b[43m \u001b[49m\u001b[43mlower_idx\u001b[49m\u001b[43m,\u001b[49m\u001b[43m \u001b[49m\u001b[43mphase\u001b[49m\u001b[43m)\u001b[49m\u001b[43m,\u001b[49m\n\u001b[1;32m    415\u001b[0m \u001b[43m    \u001b[49m\u001b[43mdiagnostics_fn\u001b[49m\u001b[38;5;241;43m=\u001b[39;49m\u001b[43mdiagnostics\u001b[49m\u001b[43m,\u001b[49m\n\u001b[1;32m    416\u001b[0m \u001b[43m    \u001b[49m\u001b[43mnum_chains\u001b[49m\u001b[38;5;241;43m=\u001b[39;49m\u001b[38;5;28;43mself\u001b[39;49m\u001b[38;5;241;43m.\u001b[39;49m\u001b[43mnum_chains\u001b[49m\u001b[43m \u001b[49m\u001b[38;5;28;43;01mif\u001b[39;49;00m\u001b[43m \u001b[49m\u001b[38;5;28;43mself\u001b[39;49m\u001b[38;5;241;43m.\u001b[39;49m\u001b[43mchain_method\u001b[49m\u001b[43m \u001b[49m\u001b[38;5;241;43m==\u001b[39;49m\u001b[43m \u001b[49m\u001b[38;5;124;43m\"\u001b[39;49m\u001b[38;5;124;43mparallel\u001b[39;49m\u001b[38;5;124;43m\"\u001b[39;49m\u001b[43m \u001b[49m\u001b[38;5;28;43;01melse\u001b[39;49;00m\u001b[43m \u001b[49m\u001b[38;5;241;43m1\u001b[39;49m\u001b[43m,\u001b[49m\n\u001b[1;32m    417\u001b[0m \u001b[43m\u001b[49m\u001b[43m)\u001b[49m\n\u001b[1;32m    418\u001b[0m states, last_val \u001b[38;5;241m=\u001b[39m collect_vals\n\u001b[1;32m    419\u001b[0m \u001b[38;5;66;03m# Get first argument of type `HMCState`\u001b[39;00m\n",
      "File \u001b[0;32m~/anaconda3/envs/dlux_env/lib/python3.10/site-packages/numpyro/util.py:358\u001b[0m, in \u001b[0;36mfori_collect\u001b[0;34m(lower, upper, body_fun, init_val, transform, progbar, return_last_val, collection_size, thinning, **progbar_opts)\u001b[0m\n\u001b[1;32m    356\u001b[0m \u001b[38;5;28;01mwith\u001b[39;00m tqdm\u001b[38;5;241m.\u001b[39mtrange(upper) \u001b[38;5;28;01mas\u001b[39;00m t:\n\u001b[1;32m    357\u001b[0m     \u001b[38;5;28;01mfor\u001b[39;00m i \u001b[38;5;129;01min\u001b[39;00m t:\n\u001b[0;32m--> 358\u001b[0m         vals \u001b[38;5;241m=\u001b[39m \u001b[43mjit\u001b[49m\u001b[43m(\u001b[49m\u001b[43m_body_fn\u001b[49m\u001b[43m)\u001b[49m\u001b[43m(\u001b[49m\u001b[43mi\u001b[49m\u001b[43m,\u001b[49m\u001b[43m \u001b[49m\u001b[43mvals\u001b[49m\u001b[43m)\u001b[49m\n\u001b[1;32m    359\u001b[0m         t\u001b[38;5;241m.\u001b[39mset_description(progbar_desc(i), refresh\u001b[38;5;241m=\u001b[39m\u001b[38;5;28;01mFalse\u001b[39;00m)\n\u001b[1;32m    360\u001b[0m         \u001b[38;5;28;01mif\u001b[39;00m diagnostics_fn:\n",
      "File \u001b[0;32m<string>:1\u001b[0m, in \u001b[0;36m<lambda>\u001b[0;34m(_cls, step_size, inverse_mass_matrix, mass_matrix_sqrt, mass_matrix_sqrt_inv, ss_state, mm_state, window_idx, rng_key)\u001b[0m\n",
      "\u001b[0;31mKeyboardInterrupt\u001b[0m: "
     ]
    }
   ],
   "source": [
    "from jax import device_count\n",
    "sampler = npy.infer.MCMC(\n",
    "    npy.infer.NUTS(psf_model),    \n",
    "    num_warmup=1000,\n",
    "    num_samples=1000,\n",
    "    num_chains=device_count(),\n",
    "    progress_bar=True,\n",
    ")\n",
    "%time sampler.run(jr.PRNGKey(0), data, telescope)"
   ]
  },
  {
   "cell_type": "markdown",
   "id": "acbbe6f7",
   "metadata": {},
   "source": [
    "Step 4: Make plots."
   ]
  },
  {
   "cell_type": "code",
   "execution_count": 64,
   "id": "9fece136",
   "metadata": {},
   "outputs": [
    {
     "ename": "TypeError",
     "evalue": "'NoneType' object is not subscriptable",
     "output_type": "error",
     "traceback": [
      "\u001b[0;31m---------------------------------------------------------------------------\u001b[0m",
      "\u001b[0;31mTypeError\u001b[0m                                 Traceback (most recent call last)",
      "Cell \u001b[0;32mIn[64], line 1\u001b[0m\n\u001b[0;32m----> 1\u001b[0m \u001b[43msampler\u001b[49m\u001b[38;5;241;43m.\u001b[39;49m\u001b[43mprint_summary\u001b[49m\u001b[43m(\u001b[49m\u001b[43m)\u001b[49m\n\u001b[1;32m      2\u001b[0m values_out \u001b[38;5;241m=\u001b[39m sampler\u001b[38;5;241m.\u001b[39mget_samples()\n",
      "File \u001b[0;32m~/anaconda3/envs/dlux_env/lib/python3.10/site-packages/numpyro/infer/mcmc.py:663\u001b[0m, in \u001b[0;36mMCMC.print_summary\u001b[0;34m(self, prob, exclude_deterministic)\u001b[0m\n\u001b[1;32m    655\u001b[0m \u001b[38;5;250m\u001b[39m\u001b[38;5;124;03m\"\"\"\u001b[39;00m\n\u001b[1;32m    656\u001b[0m \u001b[38;5;124;03mPrint the statistics of posterior samples collected during running this MCMC instance.\u001b[39;00m\n\u001b[1;32m    657\u001b[0m \n\u001b[0;32m   (...)\u001b[0m\n\u001b[1;32m    660\u001b[0m \u001b[38;5;124;03m    at deterministic sites.\u001b[39;00m\n\u001b[1;32m    661\u001b[0m \u001b[38;5;124;03m\"\"\"\u001b[39;00m\n\u001b[1;32m    662\u001b[0m \u001b[38;5;66;03m# Exclude deterministic sites by default\u001b[39;00m\n\u001b[0;32m--> 663\u001b[0m sites \u001b[38;5;241m=\u001b[39m \u001b[38;5;28;43mself\u001b[39;49m\u001b[38;5;241;43m.\u001b[39;49m\u001b[43m_states\u001b[49m\u001b[43m[\u001b[49m\u001b[38;5;28;43mself\u001b[39;49m\u001b[38;5;241;43m.\u001b[39;49m\u001b[43m_sample_field\u001b[49m\u001b[43m]\u001b[49m\n\u001b[1;32m    664\u001b[0m \u001b[38;5;28;01mif\u001b[39;00m \u001b[38;5;28misinstance\u001b[39m(sites, \u001b[38;5;28mdict\u001b[39m) \u001b[38;5;129;01mand\u001b[39;00m exclude_deterministic:\n\u001b[1;32m    665\u001b[0m     state_sample_field \u001b[38;5;241m=\u001b[39m attrgetter(\u001b[38;5;28mself\u001b[39m\u001b[38;5;241m.\u001b[39m_sample_field)(\u001b[38;5;28mself\u001b[39m\u001b[38;5;241m.\u001b[39m_last_state)\n",
      "\u001b[0;31mTypeError\u001b[0m: 'NoneType' object is not subscriptable"
     ]
    }
   ],
   "source": [
    "sampler.print_summary()\n",
    "values_out = sampler.get_samples()"
   ]
  },
  {
   "cell_type": "code",
   "execution_count": 65,
   "id": "7f460cb0",
   "metadata": {},
   "outputs": [
    {
     "ename": "IndexError",
     "evalue": "index 0 is out of bounds for axis 0 with size 0",
     "output_type": "error",
     "traceback": [
      "\u001b[0;31m---------------------------------------------------------------------------\u001b[0m",
      "\u001b[0;31mIndexError\u001b[0m                                Traceback (most recent call last)",
      "Cell \u001b[0;32mIn[65], line 7\u001b[0m\n\u001b[1;32m      4\u001b[0m chain\u001b[38;5;241m.\u001b[39madd_chain(values_out)\n\u001b[1;32m      5\u001b[0m chain\u001b[38;5;241m.\u001b[39mconfigure(serif\u001b[38;5;241m=\u001b[39m\u001b[38;5;28;01mTrue\u001b[39;00m, shade\u001b[38;5;241m=\u001b[39m\u001b[38;5;28;01mTrue\u001b[39;00m, bar_shade\u001b[38;5;241m=\u001b[39m\u001b[38;5;28;01mTrue\u001b[39;00m, shade_alpha\u001b[38;5;241m=\u001b[39m\u001b[38;5;241m0.2\u001b[39m, spacing\u001b[38;5;241m=\u001b[39m\u001b[38;5;241m1.\u001b[39m, max_ticks\u001b[38;5;241m=\u001b[39m\u001b[38;5;241m3\u001b[39m)\n\u001b[0;32m----> 7\u001b[0m fig \u001b[38;5;241m=\u001b[39m \u001b[43mchain\u001b[49m\u001b[38;5;241;43m.\u001b[39;49m\u001b[43mplotter\u001b[49m\u001b[38;5;241;43m.\u001b[39;49m\u001b[43mplot\u001b[49m\u001b[43m(\u001b[49m\u001b[43m)\u001b[49m\n\u001b[1;32m      8\u001b[0m fig\u001b[38;5;241m.\u001b[39mset_size_inches((\u001b[38;5;241m15\u001b[39m,\u001b[38;5;241m15\u001b[39m))\n",
      "File \u001b[0;32m~/anaconda3/envs/dlux_env/lib/python3.10/site-packages/chainconsumer/plotter.py:181\u001b[0m, in \u001b[0;36mPlotter.plot\u001b[0;34m(self, figsize, parameters, chains, extents, filename, display, truth, legend, blind, watermark, log_scales)\u001b[0m\n\u001b[1;32m    178\u001b[0m     \u001b[38;5;28;01mcontinue\u001b[39;00m\n\u001b[1;32m    180\u001b[0m param_summary \u001b[38;5;241m=\u001b[39m summary \u001b[38;5;129;01mand\u001b[39;00m p1 \u001b[38;5;129;01mnot\u001b[39;00m \u001b[38;5;129;01min\u001b[39;00m blind\n\u001b[0;32m--> 181\u001b[0m m \u001b[38;5;241m=\u001b[39m \u001b[38;5;28;43mself\u001b[39;49m\u001b[38;5;241;43m.\u001b[39;49m\u001b[43m_plot_bars\u001b[49m\u001b[43m(\u001b[49m\u001b[43max\u001b[49m\u001b[43m,\u001b[49m\u001b[43m \u001b[49m\u001b[43mp1\u001b[49m\u001b[43m,\u001b[49m\u001b[43m \u001b[49m\u001b[43mchain\u001b[49m\u001b[43m,\u001b[49m\u001b[43m \u001b[49m\u001b[43mflip\u001b[49m\u001b[38;5;241;43m=\u001b[39;49m\u001b[43mdo_flip\u001b[49m\u001b[43m,\u001b[49m\u001b[43m \u001b[49m\u001b[43msummary\u001b[49m\u001b[38;5;241;43m=\u001b[39;49m\u001b[43mparam_summary\u001b[49m\u001b[43m)\u001b[49m\n\u001b[1;32m    183\u001b[0m \u001b[38;5;28;01mif\u001b[39;00m max_val \u001b[38;5;129;01mis\u001b[39;00m \u001b[38;5;28;01mNone\u001b[39;00m \u001b[38;5;129;01mor\u001b[39;00m m \u001b[38;5;241m>\u001b[39m max_val:\n\u001b[1;32m    184\u001b[0m     max_val \u001b[38;5;241m=\u001b[39m m\n",
      "File \u001b[0;32m~/anaconda3/envs/dlux_env/lib/python3.10/site-packages/chainconsumer/plotter.py:1248\u001b[0m, in \u001b[0;36mPlotter._plot_bars\u001b[0;34m(self, ax, parameter, chain, flip, summary)\u001b[0m\n\u001b[1;32m   1245\u001b[0m interpolator \u001b[38;5;241m=\u001b[39m interp1d(xs, ys, kind\u001b[38;5;241m=\u001b[39minterp_type)\n\u001b[1;32m   1247\u001b[0m \u001b[38;5;28;01mif\u001b[39;00m bar_shade:\n\u001b[0;32m-> 1248\u001b[0m     fit_values \u001b[38;5;241m=\u001b[39m \u001b[38;5;28;43mself\u001b[39;49m\u001b[38;5;241;43m.\u001b[39;49m\u001b[43mparent\u001b[49m\u001b[38;5;241;43m.\u001b[39;49m\u001b[43manalysis\u001b[49m\u001b[38;5;241;43m.\u001b[39;49m\u001b[43mget_parameter_summary\u001b[49m\u001b[43m(\u001b[49m\u001b[43mchain\u001b[49m\u001b[43m,\u001b[49m\u001b[43m \u001b[49m\u001b[43mparameter\u001b[49m\u001b[43m)\u001b[49m\n\u001b[1;32m   1249\u001b[0m     \u001b[38;5;28;01mif\u001b[39;00m fit_values \u001b[38;5;129;01mis\u001b[39;00m \u001b[38;5;129;01mnot\u001b[39;00m \u001b[38;5;28;01mNone\u001b[39;00m:\n\u001b[1;32m   1250\u001b[0m         lower \u001b[38;5;241m=\u001b[39m fit_values[\u001b[38;5;241m0\u001b[39m]\n",
      "File \u001b[0;32m~/anaconda3/envs/dlux_env/lib/python3.10/site-packages/chainconsumer/analysis.py:214\u001b[0m, in \u001b[0;36mAnalysis.get_parameter_summary\u001b[0;34m(self, chain, parameter)\u001b[0m\n\u001b[1;32m    212\u001b[0m     \u001b[38;5;28mself\u001b[39m\u001b[38;5;241m.\u001b[39mparent\u001b[38;5;241m.\u001b[39mconfigure()\n\u001b[1;32m    213\u001b[0m callback \u001b[38;5;241m=\u001b[39m \u001b[38;5;28mself\u001b[39m\u001b[38;5;241m.\u001b[39m_summaries[chain\u001b[38;5;241m.\u001b[39mconfig[\u001b[38;5;124m\"\u001b[39m\u001b[38;5;124mstatistics\u001b[39m\u001b[38;5;124m\"\u001b[39m]]\n\u001b[0;32m--> 214\u001b[0m \u001b[38;5;28;01mreturn\u001b[39;00m \u001b[43mchain\u001b[49m\u001b[38;5;241;43m.\u001b[39;49m\u001b[43mget_summary\u001b[49m\u001b[43m(\u001b[49m\u001b[43mparameter\u001b[49m\u001b[43m,\u001b[49m\u001b[43m \u001b[49m\u001b[43mcallback\u001b[49m\u001b[43m)\u001b[49m\n",
      "File \u001b[0;32m~/anaconda3/envs/dlux_env/lib/python3.10/site-packages/chainconsumer/chain.py:253\u001b[0m, in \u001b[0;36mChain.get_summary\u001b[0;34m(self, param, callback)\u001b[0m\n\u001b[1;32m    251\u001b[0m \u001b[38;5;28;01mif\u001b[39;00m stat \u001b[38;5;129;01min\u001b[39;00m \u001b[38;5;28mself\u001b[39m\u001b[38;5;241m.\u001b[39msummaries\u001b[38;5;241m.\u001b[39mkeys() \u001b[38;5;129;01mand\u001b[39;00m param \u001b[38;5;129;01min\u001b[39;00m \u001b[38;5;28mself\u001b[39m\u001b[38;5;241m.\u001b[39msummaries[stat]:\n\u001b[1;32m    252\u001b[0m     \u001b[38;5;28;01mreturn\u001b[39;00m \u001b[38;5;28mself\u001b[39m\u001b[38;5;241m.\u001b[39msummaries[stat][param]\n\u001b[0;32m--> 253\u001b[0m result \u001b[38;5;241m=\u001b[39m \u001b[43mcallback\u001b[49m\u001b[43m(\u001b[49m\u001b[38;5;28;43mself\u001b[39;49m\u001b[43m,\u001b[49m\u001b[43m \u001b[49m\u001b[43mparam\u001b[49m\u001b[43m)\u001b[49m\n\u001b[1;32m    254\u001b[0m \u001b[38;5;28;01mif\u001b[39;00m stat \u001b[38;5;129;01mnot\u001b[39;00m \u001b[38;5;129;01min\u001b[39;00m \u001b[38;5;28mself\u001b[39m\u001b[38;5;241m.\u001b[39msummaries\u001b[38;5;241m.\u001b[39mkeys():\n\u001b[1;32m    255\u001b[0m     \u001b[38;5;28mself\u001b[39m\u001b[38;5;241m.\u001b[39msummaries[stat] \u001b[38;5;241m=\u001b[39m {}\n",
      "File \u001b[0;32m~/anaconda3/envs/dlux_env/lib/python3.10/site-packages/chainconsumer/analysis.py:479\u001b[0m, in \u001b[0;36mAnalysis.get_parameter_summary_max\u001b[0;34m(self, chain, parameter)\u001b[0m\n\u001b[1;32m    477\u001b[0m \u001b[38;5;28;01mif\u001b[39;00m count \u001b[38;5;241m>\u001b[39m \u001b[38;5;241m50\u001b[39m:\n\u001b[1;32m    478\u001b[0m     \u001b[38;5;28;01mraise\u001b[39;00m \u001b[38;5;167;01mValueError\u001b[39;00m(\u001b[38;5;124m\"\u001b[39m\u001b[38;5;124mFailed to converge\u001b[39m\u001b[38;5;124m\"\u001b[39m)\n\u001b[0;32m--> 479\u001b[0m i1 \u001b[38;5;241m=\u001b[39m startIndex \u001b[38;5;241m-\u001b[39m \u001b[43mnp\u001b[49m\u001b[38;5;241;43m.\u001b[39;49m\u001b[43mwhere\u001b[49m\u001b[43m(\u001b[49m\u001b[43mys\u001b[49m\u001b[43m[\u001b[49m\u001b[43m:\u001b[49m\u001b[43mstartIndex\u001b[49m\u001b[43m]\u001b[49m\u001b[43m[\u001b[49m\u001b[43m:\u001b[49m\u001b[43m:\u001b[49m\u001b[38;5;241;43m-\u001b[39;49m\u001b[38;5;241;43m1\u001b[39;49m\u001b[43m]\u001b[49m\u001b[43m \u001b[49m\u001b[38;5;241;43m<\u001b[39;49m\u001b[43m \u001b[49m\u001b[43mmid\u001b[49m\u001b[43m)\u001b[49m\u001b[43m[\u001b[49m\u001b[38;5;241;43m0\u001b[39;49m\u001b[43m]\u001b[49m\u001b[43m[\u001b[49m\u001b[38;5;241;43m0\u001b[39;49m\u001b[43m]\u001b[49m\n\u001b[1;32m    480\u001b[0m i2 \u001b[38;5;241m=\u001b[39m startIndex \u001b[38;5;241m+\u001b[39m np\u001b[38;5;241m.\u001b[39mwhere(ys[startIndex:] \u001b[38;5;241m<\u001b[39m mid)[\u001b[38;5;241m0\u001b[39m][\u001b[38;5;241m0\u001b[39m]\n\u001b[1;32m    481\u001b[0m area \u001b[38;5;241m=\u001b[39m cs[i2] \u001b[38;5;241m-\u001b[39m cs[i1]\n",
      "\u001b[0;31mIndexError\u001b[0m: index 0 is out of bounds for axis 0 with size 0"
     ]
    },
    {
     "data": {
      "image/png": "[encoded data removed]",
      "text/plain": [
       "<Figure size 450x450 with 9 Axes>"
      ]
     },
     "metadata": {},
     "output_type": "display_data"
    }
   ],
   "source": [
    "import chainconsumer as cc\n",
    "\n",
    "chain = cc.ChainConsumer()\n",
    "chain.add_chain(values_out)\n",
    "chain.configure(serif=True, shade=True, bar_shade=True, shade_alpha=0.2, spacing=1., max_ticks=3)\n",
    "\n",
    "fig = chain.plotter.plot()\n",
    "fig.set_size_inches((15,15));"
   ]
  },
  {
   "cell_type": "code",
   "execution_count": null,
   "id": "f2ebdc96",
   "metadata": {},
   "outputs": [],
   "source": []
  },
  {
   "cell_type": "code",
   "execution_count": null,
   "id": "b81d9544",
   "metadata": {},
   "outputs": [],
   "source": []
  }
 ],
 "metadata": {
  "kernelspec": {
   "display_name": "Python [conda env:dlux_env]",
   "language": "python",
   "name": "conda-env-dlux_env-py"
  },
  "language_info": {
   "codemirror_mode": {
    "name": "ipython",
    "version": 3
   },
   "file_extension": ".py",
   "mimetype": "text/x-python",
   "name": "python",
   "nbconvert_exporter": "python",
   "pygments_lexer": "ipython3",
   "version": "3.10.10"
  }
 },
 "nbformat": 4,
 "nbformat_minor": 5
}
